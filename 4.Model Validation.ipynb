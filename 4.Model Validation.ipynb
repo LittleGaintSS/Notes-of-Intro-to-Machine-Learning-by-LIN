{
 "cells": [
  {
   "cell_type": "markdown",
   "id": "de04304c",
   "metadata": {},
   "source": [
    "# Tutorial"
   ]
  },
  {
   "cell_type": "markdown",
   "id": "4b65d8e9",
   "metadata": {},
   "source": [
    "You've built a model. But how good is it?\n",
    "\n",
    "In this lesson, you will learn to use model validation to measure the quality of your model. Measuring model quality is the key to iteratively improving your models."
   ]
  },
  {
   "cell_type": "markdown",
   "id": "6c75c88f",
   "metadata": {},
   "source": [
    "## What is Model Validation\n",
    "\n",
    "You'll want to evaluate almost every model you ever build. In most (though not all) applications, the relevant measure of model quality is predictive accuracy. In other words, will the model's predictions be close to what actually happens.\n",
    "\n",
    "Many people make a huge mistake when measuring predictive accuracy. They make predictions with their training data and compare those predictions to the target values in the *training data*. You'll see the problem with this approach and how to solve it in a moment, but let's think about how we'd do this first.\n",
    "\n",
    "You'd first need to summarize the model quality into an understandable way. If you compare predicted and actual home values for 10,000 houses, you'll likely find mix of good and bad predictions. Looking through a list of 10,000 predicted and actual values would be pointless. We need to summarize this into a single metric.\n",
    "\n",
    "There are many metrics for summarizing model quality, but we'll start with one called **Mean Absolute Error** (also called **MAE**). Let's break down this metric starting with the last word, error.\n",
    "\n",
    "The prediction error for each house is:\n",
    "\n",
    "    `error=actual−predicted`\n",
    "\n",
    "So, if a house cost $150,000 and you predicted it would cost $100,000 the error is $50,000.\n",
    "\n",
    "With the MAE metric, we take the absolute value of each error. This converts each error to a positive number. We then take the average of those absolute errors. This is our measure of model quality. In plain English, it can be said as\n",
    "\n",
    "    On average, our predictions are off by about X.\n",
    "\n",
    "To calculate **MAE**, we first need a model. That is built in a hidden cell below, which you can review by clicking the `code` button."
   ]
  },
  {
   "cell_type": "markdown",
   "id": "f1377544",
   "metadata": {},
   "source": [
    "Once we have a model, here is how we calculate the mean absolute error:"
   ]
  },
  {
   "cell_type": "code",
   "execution_count": 2,
   "id": "29f324f8",
   "metadata": {},
   "outputs": [
    {
     "data": {
      "text/plain": [
       "DecisionTreeRegressor()"
      ]
     },
     "execution_count": 2,
     "metadata": {},
     "output_type": "execute_result"
    }
   ],
   "source": [
    "# Set up the model we have\n",
    "# Data Loading Code Hidden Here\n",
    "import pandas as pd\n",
    "\n",
    "# Load data\n",
    "#melbourne_file_path = '../input/melbourne-housing-snapshot/melb_data.csv'\n",
    "melbourne_data = pd.read_csv('2.Basic Data Exploration/melb_data.csv') \n",
    "# Filter rows with missing price values\n",
    "filtered_melbourne_data = melbourne_data.dropna(axis=0)\n",
    "# Choose target and features\n",
    "y = filtered_melbourne_data.Price\n",
    "melbourne_features = ['Rooms', 'Bathroom', 'Landsize', 'BuildingArea', \n",
    "                        'YearBuilt', 'Lattitude', 'Longtitude']\n",
    "X = filtered_melbourne_data[melbourne_features]\n",
    "\n",
    "from sklearn.tree import DecisionTreeRegressor\n",
    "# Define model\n",
    "melbourne_model = DecisionTreeRegressor()\n",
    "# Fit model\n",
    "melbourne_model.fit(X, y)"
   ]
  },
  {
   "cell_type": "code",
   "execution_count": 3,
   "id": "7ab6c0b0",
   "metadata": {},
   "outputs": [
    {
     "data": {
      "text/plain": [
       "434.71594577146544"
      ]
     },
     "execution_count": 3,
     "metadata": {},
     "output_type": "execute_result"
    }
   ],
   "source": [
    "from sklearn.metrics import mean_absolute_error\n",
    "\n",
    "predicted_home_prices = melbourne_model.predict(X)\n",
    "mean_absolute_error(y, predicted_home_prices)"
   ]
  },
  {
   "cell_type": "markdown",
   "id": "42c5c939",
   "metadata": {},
   "source": [
    "## The Problem with \"In-Sample\" Scores\n",
    "The measure we just computed can be called an \"in-sample\" score. We used a single \"sample\" of houses for both building the model and evaluating it. Here's why this is bad.\n",
    "\n",
    "Imagine that, in the large real estate market, door color is unrelated to home price.\n",
    "\n",
    "However, in the sample of data you used to build the model, all homes with green doors were very expensive. The model's job is to find patterns that predict home prices, so it will see this pattern, and it will always predict high prices for homes with green doors.\n",
    "\n",
    "Since this pattern was derived from the training data, the model will appear accurate in the training data.\n",
    "\n",
    "But if this pattern doesn't hold when the model sees new data, the model would be very inaccurate when used in practice.\n",
    "\n",
    "Since models' practical value come from making predictions on new data, we measure performance on data that wasn't used to build the model. The most straightforward way to do this is to exclude some data from the model-building process, and then use those to test the model's accuracy on data it hasn't seen before. This data is called **validation data**."
   ]
  },
  {
   "cell_type": "markdown",
   "id": "9527628f",
   "metadata": {},
   "source": [
    "## Coding It\n",
    "The scikit-learn library has a function `train_test_split` to break up the data into two pieces. We'll use some of that data as training data to fit the model, and we'll use the other data as **validation data** to calculate `mean_absolute_error`.\n",
    "\n",
    "Here is the code:"
   ]
  },
  {
   "cell_type": "code",
   "execution_count": 4,
   "id": "d6fc93fe",
   "metadata": {},
   "outputs": [
    {
     "name": "stdout",
     "output_type": "stream",
     "text": [
      "262909.0555196901\n"
     ]
    }
   ],
   "source": [
    "from sklearn.model_selection import train_test_split\n",
    "\n",
    "# split data into training and validation data, for both features and target\n",
    "# The split is based on a random number generator. Supplying a numeric value to\n",
    "# the random_state argument guarantees we get the same split every time we\n",
    "# run this script.\n",
    "train_X, val_X, train_y, val_y = train_test_split(X, y, random_state = 0)\n",
    "# Define model\n",
    "melbourne_model = DecisionTreeRegressor()\n",
    "# Fit model\n",
    "melbourne_model.fit(train_X, train_y)\n",
    "\n",
    "# get predicted prices on validation data\n",
    "val_predictions = melbourne_model.predict(val_X)\n",
    "print(mean_absolute_error(val_y, val_predictions))"
   ]
  },
  {
   "cell_type": "markdown",
   "id": "178f46fe",
   "metadata": {},
   "source": [
    "## Wow!\n",
    "Your mean absolute error for the in-sample data was about 500 dollars. Out-of-sample it is more than 250,000 dollars.\n",
    "\n",
    "This is the difference between a model that is almost exactly right, and one that is unusable for most practical purposes. As a point of reference, the average home value in the validation data is 1.1 million dollars. So the error in new data is about a quarter of the average home value.\n",
    "\n",
    "There are many ways to improve this model, such as experimenting to find better features or different model types."
   ]
  },
  {
   "cell_type": "markdown",
   "id": "d2392828",
   "metadata": {},
   "source": [
    "## Recap\n",
    "\n",
    "You've built a model. In this exercise you will test how good your model is.\n",
    "\n",
    "Run the cell below to set up your coding environment where the previous exercise left off."
   ]
  },
  {
   "cell_type": "code",
   "execution_count": 5,
   "id": "67faaec8",
   "metadata": {},
   "outputs": [
    {
     "name": "stdout",
     "output_type": "stream",
     "text": [
      "First in-sample predictions: [208500. 181500. 223500. 140000. 250000.]\n",
      "Actual target values for those homes: [208500, 181500, 223500, 140000, 250000]\n"
     ]
    }
   ],
   "source": [
    "# Code you have previously used to load data\n",
    "import pandas as pd\n",
    "from sklearn.tree import DecisionTreeRegressor\n",
    "\n",
    "# Path of the file to read\n",
    "home_data = pd.read_csv('3. Your First Machine Learning Model/train.csv') \n",
    "\n",
    "y = home_data.SalePrice\n",
    "feature_columns = ['LotArea', 'YearBuilt', '1stFlrSF', '2ndFlrSF', 'FullBath', 'BedroomAbvGr', 'TotRmsAbvGrd']\n",
    "X = home_data[feature_columns]\n",
    "\n",
    "# Specify Model\n",
    "iowa_model = DecisionTreeRegressor()\n",
    "# Fit Model\n",
    "iowa_model.fit(X, y)\n",
    "\n",
    "print(\"First in-sample predictions:\", iowa_model.predict(X.head()))\n",
    "print(\"Actual target values for those homes:\", y.head().tolist())"
   ]
  },
  {
   "cell_type": "markdown",
   "id": "0ecdb716",
   "metadata": {},
   "source": [
    "# Exercises\n",
    "\n",
    "## Step 1: Split Your Data\n",
    "Use the `train_test_split` function to split up your data.\n",
    "\n",
    "Give it the argument `random_state=1` so the `check` functions know what to expect when verifying your code.\n",
    "\n",
    "Recall, your features are loaded in the DataFrame **X** and your target is loaded in **y**.\n"
   ]
  },
  {
   "cell_type": "code",
   "execution_count": 6,
   "id": "d6ba17e4",
   "metadata": {},
   "outputs": [],
   "source": [
    "# Import the train_test_split function and uncomment\n",
    "from sklearn.model_selection import train_test_split\n",
    "\n",
    "# fill in and uncomment\n",
    "train_X, val_X, train_y, val_y = train_test_split(X, y, random_state = 1)"
   ]
  },
  {
   "cell_type": "markdown",
   "id": "87316eb9",
   "metadata": {},
   "source": [
    "## Step 2: Specify and Fit the Model\n",
    "\n",
    "Create a `DecisionTreeRegressor` model and fit it to the relevant data.\n",
    "Set `random_state` to 1 again when creating the model."
   ]
  },
  {
   "cell_type": "code",
   "execution_count": 7,
   "id": "9f16fb9f",
   "metadata": {},
   "outputs": [
    {
     "data": {
      "text/plain": [
       "DecisionTreeRegressor(random_state=1)"
      ]
     },
     "execution_count": 7,
     "metadata": {},
     "output_type": "execute_result"
    }
   ],
   "source": [
    "# You imported DecisionTreeRegressor in your last exercise\n",
    "# and that code has been copied to the setup code above. So, no need to\n",
    "# import it again\n",
    "\n",
    "# Specify the model\n",
    "iowa_model = DecisionTreeRegressor(random_state=1)\n",
    "\n",
    "# Fit iowa_model with the training data.\n",
    "iowa_model.fit(train_X,train_y)"
   ]
  },
  {
   "cell_type": "markdown",
   "id": "ed0a5803",
   "metadata": {},
   "source": [
    "## Step 3: Make Predictions with Validation data\n"
   ]
  },
  {
   "cell_type": "code",
   "execution_count": 8,
   "id": "2f1825e6",
   "metadata": {},
   "outputs": [],
   "source": [
    "# Predict with all validation observations\n",
    "val_predictions = iowa_model.predict(val_X)"
   ]
  },
  {
   "cell_type": "code",
   "execution_count": 9,
   "id": "36e53fac",
   "metadata": {},
   "outputs": [
    {
     "name": "stdout",
     "output_type": "stream",
     "text": [
      "[208500. 181500. 223500. 128000. 250000.]\n",
      "0    208500\n",
      "1    181500\n",
      "2    223500\n",
      "3    140000\n",
      "4    250000\n",
      "Name: SalePrice, dtype: int64\n"
     ]
    }
   ],
   "source": [
    "# print the top few validation predictions\n",
    "print(iowa_model.predict(X.head()))\n",
    "# print the top few actual prices from validation data\n",
    "print(y.head())"
   ]
  },
  {
   "cell_type": "markdown",
   "id": "2c87215b",
   "metadata": {},
   "source": [
    "What do you notice that is different from what you saw with in-sample predictions (which are printed after the top code cell in this page).\n",
    "\n",
    "Do you remember why validation predictions differ from in-sample (or training) predictions? This is an important idea from the last lesson.\n",
    "\n",
    "## Step 4: Calculate the Mean Absolute Error in Validation Data\n"
   ]
  },
  {
   "cell_type": "code",
   "execution_count": 10,
   "id": "42c16362",
   "metadata": {},
   "outputs": [
    {
     "name": "stdout",
     "output_type": "stream",
     "text": [
      "29652.931506849316\n"
     ]
    }
   ],
   "source": [
    "from sklearn.metrics import mean_absolute_error\n",
    "val_mae = mean_absolute_error(val_y,val_predictions)\n",
    "\n",
    "# uncomment following line to see the validation_mae\n",
    "print(val_mae)"
   ]
  },
  {
   "cell_type": "markdown",
   "id": "27a7acd1",
   "metadata": {},
   "source": [
    "Is that MAE good? There isn't a general rule for what values are good that applies across applications. But you'll see how to use (and improve) this number in the next step."
   ]
  },
  {
   "cell_type": "markdown",
   "id": "578a676b",
   "metadata": {},
   "source": []
  },
  {
   "cell_type": "markdown",
   "id": "22ea8901",
   "metadata": {},
   "source": []
  }
 ],
 "metadata": {
  "kernelspec": {
   "display_name": "Python 3 (ipykernel)",
   "language": "python",
   "name": "python3"
  },
  "language_info": {
   "codemirror_mode": {
    "name": "ipython",
    "version": 3
   },
   "file_extension": ".py",
   "mimetype": "text/x-python",
   "name": "python",
   "nbconvert_exporter": "python",
   "pygments_lexer": "ipython3",
   "version": "3.7.10"
  }
 },
 "nbformat": 4,
 "nbformat_minor": 5
}
